{
 "cells": [
  {
   "cell_type": "markdown",
   "metadata": {},
   "source": [
    "# Notebook de contrastes\n",
    "\n",
    "En este cuadernillo se realizarán distintos contrastes estadísticos sobre los resultados obtenidos. Mayormente se evaluará si hay suficiente evidencia para poder decir que un estimador es mejor que otro, es decir, si hay suficiente evidencia como para poder afirmar que los errores que comete un estimador son mayores que los que comete otro. Para ello se usará el *Test Rank-Sum de Wilcoxon*."
   ]
  },
  {
   "cell_type": "code",
   "execution_count": 2,
   "metadata": {},
   "outputs": [],
   "source": [
    "# Imports necesarios\n",
    "\n",
    "import pandas as pd\n",
    "import numpy as np\n",
    "from scipy.stats import ranksums"
   ]
  },
  {
   "cell_type": "markdown",
   "metadata": {},
   "source": [
    "Se cargan los datos de las predicciones de los distintos estimadores."
   ]
  },
  {
   "cell_type": "code",
   "execution_count": 3,
   "metadata": {},
   "outputs": [],
   "source": [
    "preds = pd.read_csv('preds.csv', sep=';', index_col=0)"
   ]
  },
  {
   "cell_type": "markdown",
   "metadata": {},
   "source": [
    "### Contrastes para Ridge Regression\n",
    "\n",
    "#### Para el primer horizonte...\n",
    "\n",
    "- H<sub>0</sub> : ...con normalización mixta 7 días y temperatura centrada es mejor o igual que con normalización por semana previa y temperatura centrada\n",
    "- H<sub>1</sub> : ...con normalización por semana previa y temperatura centrada es mejor que con normalización mixta 7 días y temperatura centrada"
   ]
  },
  {
   "cell_type": "code",
   "execution_count": 3,
   "metadata": {},
   "outputs": [
    {
     "data": {
      "text/plain": [
       "RanksumsResult(statistic=-0.679846198386547, pvalue=0.24830092549973592)"
      ]
     },
     "execution_count": 3,
     "metadata": {},
     "output_type": "execute_result"
    }
   ],
   "source": [
    "yTest = np.array(preds['yTest_0'])\n",
    "rr0_h0_aux = np.array(preds['RR37ConCen_0'])\n",
    "rr0_h1_aux = np.array(preds['RR2ConCen_0'])\n",
    "\n",
    "rr0_h0 = np.absolute(yTest-rr0_h0_aux)\n",
    "rr0_h1 = np.absolute(yTest-rr0_h1_aux)\n",
    "\n",
    "ranksums(rr0_h1, rr0_h0, alternative='less')"
   ]
  },
  {
   "cell_type": "markdown",
   "metadata": {},
   "source": [
    "#### Para el segundo horizonte...\n",
    "\n",
    "- H<sub>0</sub> : ...con normalización mixta 7 días y temperatura centrada es mejor o igual que con normalización por semana previa y temperatura centrada\n",
    "- H<sub>1</sub> : ...con normalización por semana previa y temperatura centrada es mejor que con normalización mixta 7 días y temperatura centrada"
   ]
  },
  {
   "cell_type": "code",
   "execution_count": 4,
   "metadata": {},
   "outputs": [
    {
     "data": {
      "text/plain": [
       "RanksumsResult(statistic=-1.1138050538832753, pvalue=0.13268141418560192)"
      ]
     },
     "execution_count": 4,
     "metadata": {},
     "output_type": "execute_result"
    }
   ],
   "source": [
    "yTest = np.array(preds['yTest_1'])\n",
    "rr1_h0_aux = np.array(preds['RR37ConCen_1'])\n",
    "rr1_h1_aux = np.array(preds['RR2ConCen_1'])\n",
    "\n",
    "rr1_h0 = np.absolute(yTest-rr1_h0_aux)\n",
    "rr1_h1 = np.absolute(yTest-rr1_h1_aux)\n",
    "\n",
    "ranksums(rr1_h1, rr1_h0, alternative='less')"
   ]
  },
  {
   "cell_type": "markdown",
   "metadata": {},
   "source": [
    "#### Para el tercer horizonte...\n",
    "\n",
    "- H<sub>0</sub> : ...con normalización mixta 7 días y temperatura centrada es mejor o igual que con normalización por semana previa y temperatura centrada\n",
    "- H<sub>1</sub> : ...con normalización por semana previa y temperatura centrada es mejor que con normalización mixta 7 días y temperatura centrada"
   ]
  },
  {
   "cell_type": "code",
   "execution_count": 5,
   "metadata": {},
   "outputs": [
    {
     "data": {
      "text/plain": [
       "RanksumsResult(statistic=-1.3415921731215743, pvalue=0.08986413268097138)"
      ]
     },
     "execution_count": 5,
     "metadata": {},
     "output_type": "execute_result"
    }
   ],
   "source": [
    "yTest = np.array(preds['yTest_2'])\n",
    "rr2_h0_aux = np.array(preds['RR37ConCen_2'])\n",
    "rr2_h1_aux = np.array(preds['RR2ConCen_2'])\n",
    "\n",
    "rr2_h0 = np.absolute(yTest-rr2_h0_aux)\n",
    "rr2_h1 = np.absolute(yTest-rr2_h1_aux)\n",
    "\n",
    "ranksums(rr2_h1, rr2_h0, alternative='less')"
   ]
  },
  {
   "cell_type": "markdown",
   "metadata": {},
   "source": [
    "#### Para el cuarto horizonte...\n",
    "\n",
    "- H<sub>0</sub> : ...con normalización por semana previa y temperatura centrada es mejor o igual que con normalización mixta 7 días y temperatura centrada\n",
    "- H<sub>1</sub> : ...con normalización mixta 7 días y temperatura centrada es mejor que con normalización por semana previa y temperatura centrada"
   ]
  },
  {
   "cell_type": "code",
   "execution_count": 8,
   "metadata": {},
   "outputs": [
    {
     "data": {
      "text/plain": [
       "RanksumsResult(statistic=0.5603547550288149, pvalue=0.7123812568399247)"
      ]
     },
     "execution_count": 8,
     "metadata": {},
     "output_type": "execute_result"
    }
   ],
   "source": [
    "yTest = np.array(preds['yTest_3'])\n",
    "rr3_h0_aux = np.array(preds['RR2ConCen_3'])\n",
    "rr3_h1_aux = np.array(preds['RR37ConCen_3'])\n",
    "\n",
    "rr3_h0 = np.absolute(yTest-rr3_h0_aux)\n",
    "rr3_h1 = np.absolute(yTest-rr3_h1_aux)\n",
    "\n",
    "ranksums(rr3_h1, rr3_h0, alternative='less')"
   ]
  },
  {
   "cell_type": "markdown",
   "metadata": {},
   "source": [
    "#### Para el quinto horizonte...\n",
    "\n",
    "- H<sub>0</sub> : ...con normalización mixta 7 días y temperatura centrada es mejor o igual que con normalización mixta 1 día y temperatura centrada\n",
    "- H<sub>1</sub> : ...con normalización mixta 1 día y temperatura centrada es mejor que con normalización mixta 7 días y temperatura centrada"
   ]
  },
  {
   "cell_type": "code",
   "execution_count": 9,
   "metadata": {},
   "outputs": [
    {
     "data": {
      "text/plain": [
       "RanksumsResult(statistic=-3.7883798069888717, pvalue=7.581645977287259e-05)"
      ]
     },
     "execution_count": 9,
     "metadata": {},
     "output_type": "execute_result"
    }
   ],
   "source": [
    "yTest = np.array(preds['yTest_4'])\n",
    "rr4_h0_aux = np.array(preds['RR37ConCen_4'])\n",
    "rr4_h1_aux = np.array(preds['RR31ConCen_4'])\n",
    "\n",
    "rr4_h0 = np.absolute(yTest-rr4_h0_aux)\n",
    "rr4_h1 = np.absolute(yTest-rr4_h1_aux)\n",
    "\n",
    "ranksums(rr4_h1, rr4_h0, alternative='less')"
   ]
  },
  {
   "cell_type": "markdown",
   "metadata": {},
   "source": [
    "#### Para el sexto horizonte...\n",
    "\n",
    "- H<sub>0</sub> : ...con normalización mixta 7 días y temperatura centrada es mejor o igual que con normalización mixta 1 día y temperatura centrada\n",
    "- H<sub>1</sub> : ...con normalización mixta 1 día y temperatura centrada es mejor que con normalización mixta 7 días y temperatura centrada"
   ]
  },
  {
   "cell_type": "code",
   "execution_count": 10,
   "metadata": {},
   "outputs": [
    {
     "data": {
      "text/plain": [
       "RanksumsResult(statistic=-4.2418173799913745, pvalue=1.108585356992542e-05)"
      ]
     },
     "execution_count": 10,
     "metadata": {},
     "output_type": "execute_result"
    }
   ],
   "source": [
    "yTest = np.array(preds['yTest_5'])\n",
    "rr5_h0_aux = np.array(preds['RR37ConCen_5'])\n",
    "rr5_h1_aux = np.array(preds['RR31ConCen_5'])\n",
    "\n",
    "rr5_h0 = np.absolute(yTest-rr5_h0_aux)\n",
    "rr5_h1 = np.absolute(yTest-rr5_h1_aux)\n",
    "\n",
    "ranksums(rr5_h1, rr5_h0, alternative='less')"
   ]
  },
  {
   "cell_type": "markdown",
   "metadata": {},
   "source": [
    "### Contrastes para Multilayer Perceptron\n",
    "\n",
    "#### Para el primer horizonte...\n",
    "\n",
    "- H<sub>0</sub> : ...con normalización mixta 7 días y sin temperatura es mejor o igual que con normalización por semana previa y sin temperatura\n",
    "- H<sub>1</sub> : ...con normalización por semana previa y sin temperatura es mejor que con normalización mixta 7 días y sin temperatura"
   ]
  },
  {
   "cell_type": "code",
   "execution_count": 11,
   "metadata": {},
   "outputs": [
    {
     "data": {
      "text/plain": [
       "RanksumsResult(statistic=-0.3322859435681248, pvalue=0.3698366764475787)"
      ]
     },
     "execution_count": 11,
     "metadata": {},
     "output_type": "execute_result"
    }
   ],
   "source": [
    "yTest = np.array(preds['yTest_0'])\n",
    "mlp0_h0_aux = np.array(preds['MLP37Sin_0'])\n",
    "mlp0_h1_aux = np.array(preds['MLP2Sin_0'])\n",
    "\n",
    "mlp0_h0 = np.absolute(yTest-mlp0_h0_aux)\n",
    "mlp0_h1 = np.absolute(yTest-mlp0_h1_aux)\n",
    "\n",
    "ranksums(mlp0_h1, mlp0_h0, alternative='less')"
   ]
  },
  {
   "cell_type": "markdown",
   "metadata": {},
   "source": [
    "#### Para el segundo horizonte...\n",
    "\n",
    "- H<sub>0</sub> : ...con normalización mixta 7 días y temperatura es mejor o igual que con normalización por semana previa y temperatura\n",
    "- H<sub>1</sub> : ...con normalización por semana previa y temperatura es mejor que con normalización mixta 7 días y temperatura"
   ]
  },
  {
   "cell_type": "code",
   "execution_count": 12,
   "metadata": {},
   "outputs": [
    {
     "data": {
      "text/plain": [
       "RanksumsResult(statistic=-1.1061394293633104, pvalue=0.13433308738141336)"
      ]
     },
     "execution_count": 12,
     "metadata": {},
     "output_type": "execute_result"
    }
   ],
   "source": [
    "yTest = np.array(preds['yTest_1'])\n",
    "mlp1_h0_aux = np.array(preds['MLP37Con_1'])\n",
    "mlp1_h1_aux = np.array(preds['MLP2Con_1'])\n",
    "\n",
    "mlp1_h0 = np.absolute(yTest-mlp1_h0_aux)\n",
    "mlp1_h1 = np.absolute(yTest-mlp1_h1_aux)\n",
    "\n",
    "ranksums(mlp1_h1, mlp1_h0, alternative='less')"
   ]
  },
  {
   "cell_type": "markdown",
   "metadata": {},
   "source": [
    "#### Para el tercer horizonte...\n",
    "\n",
    "- H<sub>0</sub> : ...con normalización mixta 7 días y temperatura es mejor o igual que con normalización por semana previa y temperatura\n",
    "- H<sub>1</sub> : ...con normalización por semana previa y temperatura es mejor que con normalización mixta 7 días y temperatura"
   ]
  },
  {
   "cell_type": "code",
   "execution_count": 13,
   "metadata": {},
   "outputs": [
    {
     "data": {
      "text/plain": [
       "RanksumsResult(statistic=-1.6899795242525495, pvalue=0.04551593599983871)"
      ]
     },
     "execution_count": 13,
     "metadata": {},
     "output_type": "execute_result"
    }
   ],
   "source": [
    "yTest = np.array(preds['yTest_2'])\n",
    "mlp2_h0_aux = np.array(preds['MLP37Con_2'])\n",
    "mlp2_h1_aux = np.array(preds['MLP2Con_2'])\n",
    "\n",
    "mlp2_h0 = np.absolute(yTest-mlp2_h0_aux)\n",
    "mlp2_h1 = np.absolute(yTest-mlp2_h1_aux)\n",
    "\n",
    "ranksums(mlp2_h1, mlp2_h0, alternative='less')"
   ]
  },
  {
   "cell_type": "markdown",
   "metadata": {},
   "source": [
    "#### Para el cuarto horizonte...\n",
    "\n",
    "- H<sub>0</sub> : ...con normalización mixta 7 días y temperatura es mejor o igual que con normalización por semana previa y temperatura\n",
    "- H<sub>1</sub> : ...con normalización por semana previa y temperatura es mejor que con normalización mixta 7 días y temperatura"
   ]
  },
  {
   "cell_type": "code",
   "execution_count": 14,
   "metadata": {},
   "outputs": [
    {
     "data": {
      "text/plain": [
       "RanksumsResult(statistic=-1.4111971225841324, pvalue=0.07909324918884147)"
      ]
     },
     "execution_count": 14,
     "metadata": {},
     "output_type": "execute_result"
    }
   ],
   "source": [
    "yTest = np.array(preds['yTest_3'])\n",
    "mlp3_h0_aux = np.array(preds['MLP37Con_3'])\n",
    "mlp3_h1_aux = np.array(preds['MLP2Con_3'])\n",
    "\n",
    "mlp3_h0 = np.absolute(yTest-mlp3_h0_aux)\n",
    "mlp3_h1 = np.absolute(yTest-mlp3_h1_aux)\n",
    "\n",
    "ranksums(mlp3_h1, mlp3_h0, alternative='less')"
   ]
  },
  {
   "cell_type": "markdown",
   "metadata": {},
   "source": [
    "#### Para el quinto horizonte...\n",
    "\n",
    "- H<sub>0</sub> : ...con normalización por semana previa y temperatura es mejor o igual que con normalización mixta 1 día y temperatura centrada\n",
    "- H<sub>1</sub> : ...con normalización mixta 1 día y temperatura centrada es mejor que con normalización por semana previa y temperatura"
   ]
  },
  {
   "cell_type": "code",
   "execution_count": 15,
   "metadata": {},
   "outputs": [
    {
     "data": {
      "text/plain": [
       "RanksumsResult(statistic=-0.10016855559200365, pvalue=0.46010525471553804)"
      ]
     },
     "execution_count": 15,
     "metadata": {},
     "output_type": "execute_result"
    }
   ],
   "source": [
    "yTest = np.array(preds['yTest_4'])\n",
    "mlp4_h0_aux = np.array(preds['MLP2Con_4'])\n",
    "mlp4_h1_aux = np.array(preds['MLP31ConCen_4'])\n",
    "\n",
    "mlp4_h0 = np.absolute(yTest-mlp4_h0_aux)\n",
    "mlp4_h1 = np.absolute(yTest-mlp4_h1_aux)\n",
    "\n",
    "ranksums(mlp4_h1, mlp4_h0, alternative='less')"
   ]
  },
  {
   "cell_type": "markdown",
   "metadata": {},
   "source": [
    "#### Para el sexto horizonte...\n",
    "\n",
    "- H<sub>0</sub> : ...con normalización mixta 7 días y temperatura es mejor o igual que con normalización mixta 1 día y temperatura centrada\n",
    "- H<sub>1</sub> : ...con normalización mixta 1 día y temperatura centrada es mejor que con normalización mixta 7 días y temperatura"
   ]
  },
  {
   "cell_type": "code",
   "execution_count": 16,
   "metadata": {},
   "outputs": [
    {
     "data": {
      "text/plain": [
       "RanksumsResult(statistic=-2.703388271385292, pvalue=0.0034318259325462333)"
      ]
     },
     "execution_count": 16,
     "metadata": {},
     "output_type": "execute_result"
    }
   ],
   "source": [
    "yTest = np.array(preds['yTest_5'])\n",
    "mlp5_h0_aux = np.array(preds['MLP37Con_5'])\n",
    "mlp5_h1_aux = np.array(preds['MLP31ConCen_5'])\n",
    "\n",
    "mlp5_h0 = np.absolute(yTest-mlp5_h0_aux)\n",
    "mlp5_h1 = np.absolute(yTest-mlp5_h1_aux)\n",
    "\n",
    "ranksums(mlp5_h1, mlp5_h0, alternative='less')"
   ]
  },
  {
   "cell_type": "markdown",
   "metadata": {},
   "source": [
    "### Contrastes para SVR\n",
    "\n",
    "#### Para el primer horizonte...\n",
    "\n",
    "- H<sub>0</sub> : ...con normalización mixta 7 días y temperatura es mejor o igual que con normalización por semana previa y temperatura\n",
    "- H<sub>1</sub> : ...con normalización por semana previa y temperatura es mejor que con normalización mixta 7 días y temperatura"
   ]
  },
  {
   "cell_type": "code",
   "execution_count": 17,
   "metadata": {},
   "outputs": [
    {
     "data": {
      "text/plain": [
       "RanksumsResult(statistic=-1.2831650107815606, pvalue=0.09971713571693464)"
      ]
     },
     "execution_count": 17,
     "metadata": {},
     "output_type": "execute_result"
    }
   ],
   "source": [
    "yTest = np.array(preds['yTest_0'])\n",
    "svr0_h0_aux = np.array(preds['SVR37Con_0'])\n",
    "svr0_h1_aux = np.array(preds['SVR2Con_0'])\n",
    "\n",
    "svr0_h0 = np.absolute(yTest-svr0_h0_aux)\n",
    "svr0_h1 = np.absolute(yTest-svr0_h1_aux)\n",
    "\n",
    "ranksums(svr0_h1, svr0_h0, alternative='less')"
   ]
  },
  {
   "cell_type": "markdown",
   "metadata": {},
   "source": [
    "#### Para el segundo horizonte...\n",
    "\n",
    "- H<sub>0</sub> : ...con normalización mixta 1 día y temperatura es mejor o igual que con normalización por semana previa y temperatura\n",
    "- H<sub>1</sub> : ...con normalización por semana previa y temperatura es mejor que con normalización mixta 1 día y temperatura"
   ]
  },
  {
   "cell_type": "code",
   "execution_count": 18,
   "metadata": {},
   "outputs": [
    {
     "data": {
      "text/plain": [
       "RanksumsResult(statistic=0.8532846990579646, pvalue=0.8032492784375462)"
      ]
     },
     "execution_count": 18,
     "metadata": {},
     "output_type": "execute_result"
    }
   ],
   "source": [
    "yTest = np.array(preds['yTest_1'])\n",
    "svr1_h0_aux = np.array(preds['SVR31Con_1'])\n",
    "svr1_h1_aux = np.array(preds['SVR2Con_1'])\n",
    "\n",
    "svr1_h0 = np.absolute(yTest-svr1_h0_aux)\n",
    "svr1_h1 = np.absolute(yTest-svr1_h1_aux)\n",
    "\n",
    "ranksums(svr1_h1, svr1_h0, alternative='less')"
   ]
  },
  {
   "cell_type": "markdown",
   "metadata": {},
   "source": [
    "#### Para el tercer horizonte...\n",
    "\n",
    "- H<sub>0</sub> : ...con normalización mixta 1 día y temperatura es mejor o igual que con normalización por semana previa y temperatura\n",
    "- H<sub>1</sub> : ...con normalización por semana previa y temperatura es mejor que con normalización mixta 1 día y temperatura"
   ]
  },
  {
   "cell_type": "code",
   "execution_count": 19,
   "metadata": {},
   "outputs": [
    {
     "data": {
      "text/plain": [
       "RanksumsResult(statistic=1.7424851564708075, pvalue=0.9592882067105207)"
      ]
     },
     "execution_count": 19,
     "metadata": {},
     "output_type": "execute_result"
    }
   ],
   "source": [
    "yTest = np.array(preds['yTest_2'])\n",
    "svr2_h0_aux = np.array(preds['SVR31Con_2'])\n",
    "svr2_h1_aux = np.array(preds['SVR2Con_2'])\n",
    "\n",
    "svr2_h0 = np.absolute(yTest-svr2_h0_aux)\n",
    "svr2_h1 = np.absolute(yTest-svr2_h1_aux)\n",
    "\n",
    "ranksums(svr2_h1, svr2_h0, alternative='less')"
   ]
  },
  {
   "cell_type": "markdown",
   "metadata": {},
   "source": [
    "#### Para el cuarto horizonte...\n",
    "\n",
    "- H<sub>0</sub> : ...con normalización por semana previa y temperatura es mejor o igual que con normalización mixta 1 día y temperatura\n",
    "- H<sub>1</sub> : ...con normalización mixta 1 día y temperatura es mejor que con normalización por semana previa y temperatura"
   ]
  },
  {
   "cell_type": "code",
   "execution_count": 22,
   "metadata": {},
   "outputs": [
    {
     "data": {
      "text/plain": [
       "RanksumsResult(statistic=-2.7001757813597242, pvalue=0.003465142431586501)"
      ]
     },
     "execution_count": 22,
     "metadata": {},
     "output_type": "execute_result"
    }
   ],
   "source": [
    "yTest = np.array(preds['yTest_3'])\n",
    "svr3_h0_aux = np.array(preds['SVR2Con_3'])\n",
    "svr3_h1_aux = np.array(preds['SVR31Con_3'])\n",
    "\n",
    "svr3_h0 = np.absolute(yTest-svr3_h0_aux)\n",
    "svr3_h1 = np.absolute(yTest-svr3_h1_aux)\n",
    "\n",
    "ranksums(svr3_h1, svr3_h0, alternative='less')"
   ]
  },
  {
   "cell_type": "markdown",
   "metadata": {},
   "source": [
    "#### Para el quinto horizonte...\n",
    "\n",
    "- H<sub>0</sub> : ...con normalización mixta 7 días y temperatura es mejor o igual que con normalización mixta 1 día y temperatura\n",
    "- H<sub>1</sub> : ...con normalización mixta 1 día y temperatura es mejor que con normalización mixta 7 días y temperatura"
   ]
  },
  {
   "cell_type": "code",
   "execution_count": 23,
   "metadata": {},
   "outputs": [
    {
     "data": {
      "text/plain": [
       "RanksumsResult(statistic=-3.8491743826872793, pvalue=5.9258307408709044e-05)"
      ]
     },
     "execution_count": 23,
     "metadata": {},
     "output_type": "execute_result"
    }
   ],
   "source": [
    "yTest = np.array(preds['yTest_4'])\n",
    "svr4_h0_aux = np.array(preds['SVR37Con_4'])\n",
    "svr4_h1_aux = np.array(preds['SVR31Con_4'])\n",
    "\n",
    "svr4_h0 = np.absolute(yTest-svr4_h0_aux)\n",
    "svr4_h1 = np.absolute(yTest-svr4_h1_aux)\n",
    "\n",
    "ranksums(svr4_h1, svr4_h0, alternative='less')"
   ]
  },
  {
   "cell_type": "markdown",
   "metadata": {},
   "source": [
    "#### Para el sexto horizonte...\n",
    "\n",
    "- H<sub>0</sub> : ...con normalización mixta 7 días y temperatura es mejor o igual que con normalización mixta 1 día y temperatura\n",
    "- H<sub>1</sub> : ...con normalización mixta 1 día y temperatura es mejor que con normalización mixta 7 días y temperatura"
   ]
  },
  {
   "cell_type": "code",
   "execution_count": 24,
   "metadata": {},
   "outputs": [
    {
     "data": {
      "text/plain": [
       "RanksumsResult(statistic=-4.793211924967533, pvalue=8.206604012750657e-07)"
      ]
     },
     "execution_count": 24,
     "metadata": {},
     "output_type": "execute_result"
    }
   ],
   "source": [
    "yTest = np.array(preds['yTest_5'])\n",
    "svr5_h0_aux = np.array(preds['SVR37Con_5'])\n",
    "svr5_h1_aux = np.array(preds['SVR31Con_5'])\n",
    "\n",
    "svr5_h0 = np.absolute(yTest-svr5_h0_aux)\n",
    "svr5_h1 = np.absolute(yTest-svr5_h1_aux)\n",
    "\n",
    "ranksums(svr5_h1, svr5_h0, alternative='less')"
   ]
  },
  {
   "cell_type": "markdown",
   "metadata": {},
   "source": [
    "### Contrastes finales\n",
    "\n",
    "Ahora se estudiará si hay suficiente evidencia estadística para afirmar que los modelos de SVR obtienen mejores resultados que los de MLP. Para cada horizonte se tendrán las siguientes hipótesis:\n",
    "\n",
    "- H<sub>0</sub> : El modelo de MLP es mejor o igual que el modelo de SVR\n",
    "- H<sub>1</sub> : El modelo de SVR es mejor que el de MLP"
   ]
  },
  {
   "cell_type": "markdown",
   "metadata": {},
   "source": [
    "#### Primer horizonte"
   ]
  },
  {
   "cell_type": "code",
   "execution_count": 5,
   "metadata": {},
   "outputs": [
    {
     "data": {
      "text/plain": [
       "RanksumsResult(statistic=-2.4755082536481194, pvalue=0.006652334323466802)"
      ]
     },
     "execution_count": 5,
     "metadata": {},
     "output_type": "execute_result"
    }
   ],
   "source": [
    "yTest = np.array(preds['yTest_0'])\n",
    "hor0_h0_aux = np.array(preds['MLP2Sin_0'])\n",
    "hor0_h1_aux = np.array(preds['SVR2Con_0'])\n",
    "\n",
    "hor0_h0 = np.absolute(yTest-hor0_h0_aux)\n",
    "hor0_h1 = np.absolute(yTest-hor0_h1_aux)\n",
    "\n",
    "ranksums(hor0_h1, hor0_h0, alternative='less')"
   ]
  },
  {
   "cell_type": "markdown",
   "metadata": {},
   "source": [
    "#### Segundo horizonte"
   ]
  },
  {
   "cell_type": "code",
   "execution_count": 6,
   "metadata": {},
   "outputs": [
    {
     "data": {
      "text/plain": [
       "RanksumsResult(statistic=-1.4552459946791143, pvalue=0.07280058586057886)"
      ]
     },
     "execution_count": 6,
     "metadata": {},
     "output_type": "execute_result"
    }
   ],
   "source": [
    "yTest = np.array(preds['yTest_1'])\n",
    "hor1_h0_aux = np.array(preds['MLP2Con_1'])\n",
    "hor1_h1_aux = np.array(preds['SVR2Con_1'])\n",
    "\n",
    "hor1_h0 = np.absolute(yTest-hor1_h0_aux)\n",
    "hor1_h1 = np.absolute(yTest-hor1_h1_aux)\n",
    "\n",
    "ranksums(hor1_h1, hor1_h0, alternative='less')"
   ]
  },
  {
   "cell_type": "markdown",
   "metadata": {},
   "source": [
    "#### Tercer horizonte"
   ]
  },
  {
   "cell_type": "code",
   "execution_count": 7,
   "metadata": {},
   "outputs": [
    {
     "data": {
      "text/plain": [
       "RanksumsResult(statistic=-1.1051535065849412, pvalue=0.13454653948176776)"
      ]
     },
     "execution_count": 7,
     "metadata": {},
     "output_type": "execute_result"
    }
   ],
   "source": [
    "yTest = np.array(preds['yTest_2'])\n",
    "hor2_h0_aux = np.array(preds['MLP2Con_2'])\n",
    "hor2_h1_aux = np.array(preds['SVR2Con_2'])\n",
    "\n",
    "hor2_h0 = np.absolute(yTest-hor2_h0_aux)\n",
    "hor2_h1 = np.absolute(yTest-hor2_h1_aux)\n",
    "\n",
    "ranksums(hor2_h1, hor2_h0, alternative='less')"
   ]
  },
  {
   "cell_type": "markdown",
   "metadata": {},
   "source": [
    "#### Cuarto horizonte"
   ]
  },
  {
   "cell_type": "code",
   "execution_count": 8,
   "metadata": {},
   "outputs": [
    {
     "data": {
      "text/plain": [
       "RanksumsResult(statistic=-3.334681518844368, pvalue=0.00042698572072486955)"
      ]
     },
     "execution_count": 8,
     "metadata": {},
     "output_type": "execute_result"
    }
   ],
   "source": [
    "yTest = np.array(preds['yTest_3'])\n",
    "hor3_h0_aux = np.array(preds['MLP2Con_3'])\n",
    "hor3_h1_aux = np.array(preds['SVR31Con_3'])\n",
    "\n",
    "hor3_h0 = np.absolute(yTest-hor3_h0_aux)\n",
    "hor3_h1 = np.absolute(yTest-hor3_h1_aux)\n",
    "\n",
    "ranksums(hor3_h1, hor3_h0, alternative='less')"
   ]
  },
  {
   "cell_type": "markdown",
   "metadata": {},
   "source": [
    "#### Quinto horizonte"
   ]
  },
  {
   "cell_type": "code",
   "execution_count": 9,
   "metadata": {},
   "outputs": [
    {
     "data": {
      "text/plain": [
       "RanksumsResult(statistic=-3.288109403650946, pvalue=0.0005043131788909152)"
      ]
     },
     "execution_count": 9,
     "metadata": {},
     "output_type": "execute_result"
    }
   ],
   "source": [
    "yTest = np.array(preds['yTest_4'])\n",
    "hor4_h0_aux = np.array(preds['MLP31ConCen_4'])\n",
    "hor4_h1_aux = np.array(preds['SVR31Con_4'])\n",
    "\n",
    "hor4_h0 = np.absolute(yTest-hor4_h0_aux)\n",
    "hor4_h1 = np.absolute(yTest-hor4_h1_aux)\n",
    "\n",
    "ranksums(hor4_h1, hor4_h0, alternative='less')"
   ]
  },
  {
   "cell_type": "markdown",
   "metadata": {},
   "source": [
    "#### Sexto horizonte"
   ]
  },
  {
   "cell_type": "code",
   "execution_count": 10,
   "metadata": {},
   "outputs": [
    {
     "data": {
      "text/plain": [
       "RanksumsResult(statistic=-2.4779775556826977, pvalue=0.00660647282847674)"
      ]
     },
     "execution_count": 10,
     "metadata": {},
     "output_type": "execute_result"
    }
   ],
   "source": [
    "yTest = np.array(preds['yTest_5'])\n",
    "hor5_h0_aux = np.array(preds['MLP31ConCen_5'])\n",
    "hor5_h1_aux = np.array(preds['SVR31Con_5'])\n",
    "\n",
    "hor5_h0 = np.absolute(yTest-hor5_h0_aux)\n",
    "hor5_h1 = np.absolute(yTest-hor5_h1_aux)\n",
    "\n",
    "ranksums(hor5_h1, hor5_h0, alternative='less')"
   ]
  }
 ],
 "metadata": {
  "kernelspec": {
   "display_name": "Python 3",
   "language": "python",
   "name": "python3"
  },
  "language_info": {
   "codemirror_mode": {
    "name": "ipython",
    "version": 3
   },
   "file_extension": ".py",
   "mimetype": "text/x-python",
   "name": "python",
   "nbconvert_exporter": "python",
   "pygments_lexer": "ipython3",
   "version": "3.11.9"
  }
 },
 "nbformat": 4,
 "nbformat_minor": 2
}
